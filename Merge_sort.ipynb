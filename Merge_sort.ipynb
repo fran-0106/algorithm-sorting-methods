{
  "nbformat": 4,
  "nbformat_minor": 0,
  "metadata": {
    "colab": {
      "name": "Merge sort.ipynb",
      "provenance": [],
      "authorship_tag": "ABX9TyNRDFKpmckLe7lCu0tI8/A1"
    },
    "kernelspec": {
      "name": "python3",
      "display_name": "Python 3"
    },
    "language_info": {
      "name": "python"
    }
  },
  "cells": [
    {
      "cell_type": "code",
      "execution_count": null,
      "metadata": {
        "id": "lnOK1oYQjKVP"
      },
      "outputs": [],
      "source": [
        "import csv \n",
        "with open('arquivo.csv', newline=\"\") as File:  \n",
        " reader = csv.reader(File) \n",
        " readList = list(reader) \n",
        " for row in reader: \n",
        "  print(row) \n",
        "\n",
        "#Definição da função Merge sort\n",
        "def mergeSort(readList):\n",
        "    if len(readList) > 1:\n",
        "  \n",
        "        #Achando o meio do array\n",
        "        mid = len(readList)//2\n",
        "  \n",
        "        #Dividindo os elementos da esquerda\n",
        "        L = readList[:mid]\n",
        "  \n",
        "        #Dividindo os elementos da direita\n",
        "        R = readList[mid:]\n",
        "  \n",
        "       #Ordenando os elementos a esquerda\n",
        "        mergeSort(L)\n",
        "  \n",
        "       #Ordenando os elementos a direita\n",
        "        mergeSort(R)\n",
        "  \n",
        "        i = j = k = 0\n",
        "  \n",
        "       #Copiando e ordenando os dados dos arrays temporários\n",
        "        while i < len(L) and j < len(R):\n",
        "            if L[i] < R[j]:\n",
        "                readList[k] = L[i]\n",
        "                i += 1\n",
        "            else:\n",
        "                readList[k] = R[j]\n",
        "                j += 1\n",
        "            k += 1\n",
        "  \n",
        "      #Checando os dados a esquerda\n",
        "        while i < len(L):\n",
        "            readList[k] = L[i]\n",
        "            i += 1\n",
        "            k += 1\n",
        "  \n",
        "  #checando os dados a direita\n",
        "        while j < len(R):\n",
        "            readList[k] = R[j]\n",
        "            j += 1\n",
        "            k += 1\n",
        "  \n",
        "  \n",
        "def printList(readList):\n",
        "    for i in range(len(readList)):\n",
        "        print(readList[i], end=\" \")\n",
        "    print()\n",
        "  \n"
      ]
    }
  ]
}