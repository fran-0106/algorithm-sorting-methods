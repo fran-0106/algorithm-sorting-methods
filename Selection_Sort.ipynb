{
  "nbformat": 4,
  "nbformat_minor": 0,
  "metadata": {
    "colab": {
      "name": "Selection Sort.ipynb",
      "provenance": [],
      "authorship_tag": "ABX9TyP6379ELLoGF8mzHIGiRQVp"
    },
    "kernelspec": {
      "name": "python3",
      "display_name": "Python 3"
    },
    "language_info": {
      "name": "python"
    }
  },
  "cells": [
    {
      "cell_type": "code",
      "execution_count": null,
      "metadata": {
        "id": "HAJN7YImI1ku"
      },
      "outputs": [],
      "source": [
        "import csv\n",
        "\n",
        "with open('file.csv', newline=\"\") as File:  \n",
        "    reader = csv.reader(File)\n",
        "    readList = list(reader)\n",
        "    for row in reader:\n",
        "       print(row)\n",
        "\n",
        "def selectionSort( readList ):\n",
        "    n = len( readList )\n",
        "    for i in range( n - 1 ): \n",
        "        minValueIndex = i\n",
        "\n",
        "        for j in range( i + 1, n ):\n",
        "            if readList[j] < readList[minValueIndex] :\n",
        "                minValueIndex = j\n",
        "\n",
        "        if minValueIndex != i :\n",
        "            temp = readList[i]\n",
        "            readList[i] = readList[minValueIndex]\n",
        "            readList[minValueIndex] = temp\n",
        "\n",
        "selectionSort(readList)\n",
        "print (\"Sorted array is:\") \n",
        "for i in range(len(readList)): \n",
        "       print ( readList[i])\n"
      ]
    }
  ]
}