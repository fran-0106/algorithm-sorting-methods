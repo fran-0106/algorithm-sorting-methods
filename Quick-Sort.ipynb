import csv 
with open('arquivo.csv', newline="") as File:  
 reader = csv.reader(File) 
 array = list(reader) 
 for row in reader: 
  print(row) 

#Função divisão do array para a ordenação quicksort
#Ponto inicial e final do array
def partition(start, end, array):

  #Inicializando o pivot
  pivot_index = start
  pivot = array[pivot_index]

  # Este loop é executado até que o ponteiro inicial cruze ponteiro de fim, 
  # e quando isso acontece trocamos o pivô com elemento no ponteiro final
  while start < end:

    # Incrementa o ponteiro inicial até encontrar um elemento maior que pivô
     while start < len(array) and array[start] <= pivot:
            start += 1

    # Decrementa o ponteiro final até encontrar um elemento menor que pivô
     while array[end] > pivot:
            end -= 1
    
    # Se início e fim não se cruzaram, troca os números no início e no fim
     if(start < end):
            array[start], array[end] = array[end], array[start]
    
    # Troca o elemento pivô com o elemento no ponteiro final.Isto coloca o 
    # pivô em seu lugar ordenado correto.
     array[end], array[pivot_index] = array[pivot_index], array[end]

    # Retorna o ponteiro final para dividir o array em 2
     return end

    #Função QuickSort
  def quick_sort(start, end, array):
     
    if (start < end):
       # p é índice de particionamento, array[p] está no lugar certo
       p = partition(start, end, array)

       # Classifica os elementos antes da partição e depois da partição
       quick_sort(start, p - 1, array)
       quick_sort(p + 1, end, array)

  quick_sort(0, len(array) - 1, array)
  print ("Sorted array is:") 
  for i in range(len(array)): 
      print ( array[i]) 
