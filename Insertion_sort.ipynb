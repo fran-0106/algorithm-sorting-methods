{
  "nbformat": 4,
  "nbformat_minor": 0,
  "metadata": {
    "colab": {
      "name": "Insertion-sort.ipynb",
      "provenance": [],
      "authorship_tag": "ABX9TyPW4m4sAXP3ItfjcESfLPER"
    },
    "kernelspec": {
      "name": "python3",
      "display_name": "Python 3"
    },
    "language_info": {
      "name": "python"
    }
  },
  "cells": [
    {
      "cell_type": "code",
      "execution_count": null,
      "metadata": {
        "id": "8MqVDarb1yXa"
      },
      "outputs": [],
      "source": [
        "import csv\n",
        "import pandas as pd\n",
        "\n",
        "df = pd.read_excel('file2.xlsx')\n",
        "print(df)\n",
        "\n",
        "with open('file.csv', newline=\"\") as File:  \n",
        "    reader = csv.reader(File)\n",
        "    readList = list(reader)\n",
        "    for row in reader:\n",
        "       print(row)\n",
        "\n",
        "def insertionSort(readList): \n",
        "  \n",
        "    for row in range(len(readList)):\n",
        "        for i in range(1, len(readList[row])): \n",
        "    \n",
        "            key = readList[row][i] \n",
        "    \n",
        "\n",
        "            j = i-1\n",
        "            while j >=0 and key < readList[row][j] : \n",
        "                    readList[row] = readList[row] \n",
        "                    j -= 1\n",
        "            readList[row] = key \n",
        "            \n",
        "            \n",
        "\n",
        "\n",
        "insertionSort(readList)\n",
        "print (\"Sorted array is:\") \n",
        "for i in range(len(readList)): \n",
        "     print ( readList[i])\n"
      ]
    }
  ]
}