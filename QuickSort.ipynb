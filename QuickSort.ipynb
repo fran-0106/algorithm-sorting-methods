{
  "nbformat": 4,
  "nbformat_minor": 0,
  "metadata": {
    "colab": {
      "name": "QuickSort.ipynb",
      "provenance": [],
      "authorship_tag": "ABX9TyNVrkmOReK32zF1W6CVjDCF",
      "include_colab_link": true
    },
    "kernelspec": {
      "name": "python3",
      "display_name": "Python 3"
    },
    "language_info": {
      "name": "python"
    }
  },
  "cells": [
    {
      "cell_type": "markdown",
      "metadata": {
        "id": "view-in-github",
        "colab_type": "text"
      },
      "source": [
        "<a href=\"https://colab.research.google.com/github/fran-0106/algorithm-sorting-methods/blob/main/QuickSort.ipynb\" target=\"_parent\"><img src=\"https://colab.research.google.com/assets/colab-badge.svg\" alt=\"Open In Colab\"/></a>"
      ]
    },
    {
      "cell_type": "code",
      "execution_count": null,
      "metadata": {
        "id": "hendghUeBVNI"
      },
      "outputs": [],
      "source": [
        "import csv \n",
        "with open('arquivo.csv', newline=\"\") as File:  \n",
        " reader = csv.reader(File) \n",
        " array = list(reader) \n",
        " for row in reader: \n",
        "  print(row) \n",
        "\n",
        "#Função divisão do array para a ordenação quicksort\n",
        "#Ponto inicial e final do array\n",
        "def partition(start, end, array):\n",
        "\n",
        "  #Inicializando o pivot\n",
        "  pivot_index = start\n",
        "  pivot = array[pivot_index]\n",
        "\n",
        "  # Este loop é executado até que o ponteiro inicial cruze ponteiro de fim, \n",
        "  # e quando isso acontece trocamos o pivô com elemento no ponteiro final\n",
        "  while start < end:\n",
        "\n",
        "    # Incrementa o ponteiro inicial até encontrar um elemento maior que pivô\n",
        "     while start < len(array) and array[start] <= pivot:\n",
        "            start += 1\n",
        "\n",
        "    # Decrementa o ponteiro final até encontrar um elemento menor que pivô\n",
        "     while array[end] > pivot:\n",
        "            end -= 1\n",
        "    \n",
        "    # Se início e fim não se cruzaram, troca os números no início e no fim\n",
        "     if(start < end):\n",
        "            array[start], array[end] = array[end], array[start]\n",
        "    \n",
        "    # Troca o elemento pivô com o elemento no ponteiro final.Isto coloca o \n",
        "    # pivô em seu lugar ordenado correto.\n",
        "     array[end], array[pivot_index] = array[pivot_index], array[end]\n",
        "\n",
        "    # Retorna o ponteiro final para dividir o array em 2\n",
        "     return end\n",
        "\n",
        "    #Função QuickSort\n",
        "  def quick_sort(start, end, array):\n",
        "     \n",
        "    if (start < end):\n",
        "       # p é índice de particionamento, array[p] está no lugar certo\n",
        "       p = partition(start, end, array)\n",
        "\n",
        "       # Classifica os elementos antes da partição e depois da partição\n",
        "       quick_sort(start, p - 1, array)\n",
        "       quick_sort(p + 1, end, array)\n",
        "\n",
        "  quick_sort(0, len(array) - 1, array)\n",
        "  print (\"Sorted array is:\") \n",
        "  for i in range(len(array)): \n",
        "      print ( array[i]) \n",
        "\n",
        "\n",
        "\n",
        "\n"
      ]
    }
  ]
}